{
 "cells": [
  {
   "cell_type": "code",
   "execution_count": 8,
   "id": "f6d69c1a",
   "metadata": {},
   "outputs": [],
   "source": [
    "ecg_root = 'mimic-iv/mimic-iv-ecg-diagnostic-electrocardiogram-matched-subset-1.0/'\n",
    "echo_root = 'mimic-iv/mimic-iv-echo-0.1.physionet.org/'\n",
    "ehr_root = 'mimic-iv/mimic-iv-3.1/'"
   ]
  },
  {
   "cell_type": "code",
   "execution_count": 9,
   "id": "c391dde8",
   "metadata": {},
   "outputs": [],
   "source": [
    "from mmai25_hackathon.load_data.ecg import * \n",
    "from mmai25_hackathon.load_data.echo import * \n",
    "from mmai25_hackathon.load_data.ehr import * "
   ]
  },
  {
   "cell_type": "code",
   "execution_count": 10,
   "id": "e6cf19b4",
   "metadata": {},
   "outputs": [],
   "source": [
    "record = load_mimic_iv_ecg_record_list(ecg_root)"
   ]
  },
  {
   "cell_type": "code",
   "execution_count": 11,
   "id": "2649c7ad",
   "metadata": {},
   "outputs": [],
   "source": [
    "from group_code.mm_dataset import *"
   ]
  },
  {
   "cell_type": "code",
   "execution_count": 12,
   "id": "221279ec",
   "metadata": {},
   "outputs": [
    {
     "data": {
      "text/plain": [
       "{'ecg': {np.int64(102): [array([[ 0.  ,  0.  ,  0.  , ...,  0.  , -0.02,  0.  ],\n",
       "          [-0.02, -0.02,  0.  , ..., -0.02, -0.04, -0.02],\n",
       "          [-0.02, -0.02,  0.  , ..., -0.02, -0.04, -0.02],\n",
       "          ...,\n",
       "          [ 0.02,  0.  ,  0.  , ..., -0.08, -0.02, -0.02],\n",
       "          [ 0.  ,  0.  ,  0.  , ..., -0.08, -0.02, -0.02],\n",
       "          [-0.02, -0.02,  0.  , ..., -0.08, -0.02, -0.02]], shape=(5000, 12)),\n",
       "   {'fs': 500,\n",
       "    'sig_len': 5000,\n",
       "    'n_sig': 12,\n",
       "    'base_date': datetime.date(2183, 9, 18),\n",
       "    'base_time': datetime.time(13, 52),\n",
       "    'units': ['mV',\n",
       "     'mV',\n",
       "     'mV',\n",
       "     'mV',\n",
       "     'mV',\n",
       "     'mV',\n",
       "     'mV',\n",
       "     'mV',\n",
       "     'mV',\n",
       "     'mV',\n",
       "     'mV',\n",
       "     'mV'],\n",
       "    'sig_name': ['I',\n",
       "     'II',\n",
       "     'III',\n",
       "     'aVR',\n",
       "     'aVF',\n",
       "     'aVL',\n",
       "     'V1',\n",
       "     'V2',\n",
       "     'V3',\n",
       "     'V4',\n",
       "     'V5',\n",
       "     'V6'],\n",
       "    'comments': ['<subject_id>: 102']}]},\n",
       " 'ehr': {np.int64(102):    subject_id  hadm_id         admittime       first_careunit\n",
       "  0         102        4  13/11/2111 23:39  Trauma SICU (TSICU)\n",
       "  1         102        5  04/08/2113 18:46  Trauma SICU (TSICU)}}"
      ]
     },
     "execution_count": 12,
     "metadata": {},
     "output_type": "execute_result"
    }
   ],
   "source": [
    "ds = EEE_dataset(\n",
    "    [ecg_root, ehr_root],\n",
    "    ['ecg', 'ehr']\n",
    ")\n",
    "ds[4]"
   ]
  }
 ],
 "metadata": {
  "kernelspec": {
   "display_name": "mmai-hackathon",
   "language": "python",
   "name": "python3"
  },
  "language_info": {
   "codemirror_mode": {
    "name": "ipython",
    "version": 3
   },
   "file_extension": ".py",
   "mimetype": "text/x-python",
   "name": "python",
   "nbconvert_exporter": "python",
   "pygments_lexer": "ipython3",
   "version": "3.11.13"
  }
 },
 "nbformat": 4,
 "nbformat_minor": 5
}
