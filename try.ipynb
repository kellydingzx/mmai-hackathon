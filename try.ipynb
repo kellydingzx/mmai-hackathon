{
 "cells": [
  {
   "cell_type": "code",
   "execution_count": 1,
   "id": "f6d69c1a",
   "metadata": {},
   "outputs": [],
   "source": [
    "ecg_root = 'mimic-iv/mimic-iv-ecg-diagnostic-electrocardiogram-matched-subset-1.0/'\n",
    "echo_root = 'mimic-iv/mimic-iv-echo-0.1.physionet.org/'\n",
    "ehr_root = 'mimic-iv/mimic-iv-note-deidentified-free-text-clinical-notes-2.2/'"
   ]
  },
  {
   "cell_type": "code",
   "execution_count": 2,
   "id": "c391dde8",
   "metadata": {},
   "outputs": [],
   "source": [
    "from mmai25_hackathon.load_data.ecg import * \n",
    "from mmai25_hackathon.load_data.echo import * \n",
    "from mmai25_hackathon.load_data.ehr import * "
   ]
  },
  {
   "cell_type": "code",
   "execution_count": null,
   "id": "e6cf19b4",
   "metadata": {},
   "outputs": [],
   "source": [
    "record = load_mimic_iv_ecg_record_list(ecg_root)"
   ]
  }
 ],
 "metadata": {
  "kernelspec": {
   "display_name": "mmai-hackathon",
   "language": "python",
   "name": "python3"
  },
  "language_info": {
   "codemirror_mode": {
    "name": "ipython",
    "version": 3
   },
   "file_extension": ".py",
   "mimetype": "text/x-python",
   "name": "python",
   "nbconvert_exporter": "python",
   "pygments_lexer": "ipython3",
   "version": "3.11.13"
  }
 },
 "nbformat": 4,
 "nbformat_minor": 5
}
